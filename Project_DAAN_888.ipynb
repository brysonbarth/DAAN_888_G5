{
 "cells": [
  {
   "cell_type": "code",
   "execution_count": 1,
   "id": "0df2bcb8",
   "metadata": {},
   "outputs": [
    {
     "name": "stdout",
     "output_type": "stream",
     "text": [
      "Requirement already satisfied: kaggle in /Users/mansighelani/Desktop/anaconda3/lib/python3.9/site-packages (1.5.12)\n",
      "Requirement already satisfied: python-dateutil in /Users/mansighelani/Desktop/anaconda3/lib/python3.9/site-packages (from kaggle) (2.8.2)\n",
      "Requirement already satisfied: tqdm in /Users/mansighelani/Desktop/anaconda3/lib/python3.9/site-packages (from kaggle) (4.62.3)\n",
      "Requirement already satisfied: urllib3 in /Users/mansighelani/Desktop/anaconda3/lib/python3.9/site-packages (from kaggle) (1.26.7)\n",
      "Requirement already satisfied: python-slugify in /Users/mansighelani/Desktop/anaconda3/lib/python3.9/site-packages (from kaggle) (5.0.2)\n",
      "Requirement already satisfied: certifi in /Users/mansighelani/Desktop/anaconda3/lib/python3.9/site-packages (from kaggle) (2021.10.8)\n",
      "Requirement already satisfied: requests in /Users/mansighelani/Desktop/anaconda3/lib/python3.9/site-packages (from kaggle) (2.26.0)\n",
      "Requirement already satisfied: six>=1.10 in /Users/mansighelani/Desktop/anaconda3/lib/python3.9/site-packages (from kaggle) (1.16.0)\n",
      "Requirement already satisfied: text-unidecode>=1.3 in /Users/mansighelani/Desktop/anaconda3/lib/python3.9/site-packages (from python-slugify->kaggle) (1.3)\n",
      "Requirement already satisfied: charset-normalizer~=2.0.0 in /Users/mansighelani/Desktop/anaconda3/lib/python3.9/site-packages (from requests->kaggle) (2.0.4)\n",
      "Requirement already satisfied: idna<4,>=2.5 in /Users/mansighelani/Desktop/anaconda3/lib/python3.9/site-packages (from requests->kaggle) (3.2)\n",
      "Note: you may need to restart the kernel to use updated packages.\n"
     ]
    }
   ],
   "source": [
    "%pip install kaggle"
   ]
  },
  {
   "cell_type": "code",
   "execution_count": 2,
   "id": "08cdea8b",
   "metadata": {},
   "outputs": [
    {
     "name": "stdout",
     "output_type": "stream",
     "text": [
      "Requirement already satisfied: opendatasets in /Users/mansighelani/Desktop/anaconda3/lib/python3.9/site-packages (0.1.22)\n",
      "Requirement already satisfied: kaggle in /Users/mansighelani/Desktop/anaconda3/lib/python3.9/site-packages (from opendatasets) (1.5.12)\n",
      "Requirement already satisfied: click in /Users/mansighelani/Desktop/anaconda3/lib/python3.9/site-packages (from opendatasets) (8.0.3)\n",
      "Requirement already satisfied: tqdm in /Users/mansighelani/Desktop/anaconda3/lib/python3.9/site-packages (from opendatasets) (4.62.3)\n",
      "Requirement already satisfied: urllib3 in /Users/mansighelani/Desktop/anaconda3/lib/python3.9/site-packages (from kaggle->opendatasets) (1.26.7)\n",
      "Requirement already satisfied: python-dateutil in /Users/mansighelani/Desktop/anaconda3/lib/python3.9/site-packages (from kaggle->opendatasets) (2.8.2)\n",
      "Requirement already satisfied: six>=1.10 in /Users/mansighelani/Desktop/anaconda3/lib/python3.9/site-packages (from kaggle->opendatasets) (1.16.0)\n",
      "Requirement already satisfied: certifi in /Users/mansighelani/Desktop/anaconda3/lib/python3.9/site-packages (from kaggle->opendatasets) (2021.10.8)\n",
      "Requirement already satisfied: requests in /Users/mansighelani/Desktop/anaconda3/lib/python3.9/site-packages (from kaggle->opendatasets) (2.26.0)\n",
      "Requirement already satisfied: python-slugify in /Users/mansighelani/Desktop/anaconda3/lib/python3.9/site-packages (from kaggle->opendatasets) (5.0.2)\n",
      "Requirement already satisfied: text-unidecode>=1.3 in /Users/mansighelani/Desktop/anaconda3/lib/python3.9/site-packages (from python-slugify->kaggle->opendatasets) (1.3)\n",
      "Requirement already satisfied: charset-normalizer~=2.0.0 in /Users/mansighelani/Desktop/anaconda3/lib/python3.9/site-packages (from requests->kaggle->opendatasets) (2.0.4)\n",
      "Requirement already satisfied: idna<4,>=2.5 in /Users/mansighelani/Desktop/anaconda3/lib/python3.9/site-packages (from requests->kaggle->opendatasets) (3.2)\n"
     ]
    }
   ],
   "source": [
    "!pip install opendatasets"
   ]
  },
  {
   "cell_type": "code",
   "execution_count": 3,
   "id": "db420b06",
   "metadata": {},
   "outputs": [
    {
     "name": "stdout",
     "output_type": "stream",
     "text": [
      "Requirement already satisfied: pandas in /Users/mansighelani/Desktop/anaconda3/lib/python3.9/site-packages (1.3.4)\n",
      "Requirement already satisfied: python-dateutil>=2.7.3 in /Users/mansighelani/Desktop/anaconda3/lib/python3.9/site-packages (from pandas) (2.8.2)\n",
      "Requirement already satisfied: pytz>=2017.3 in /Users/mansighelani/Desktop/anaconda3/lib/python3.9/site-packages (from pandas) (2021.3)\n",
      "Requirement already satisfied: numpy>=1.17.3 in /Users/mansighelani/Desktop/anaconda3/lib/python3.9/site-packages (from pandas) (1.20.3)\n",
      "Requirement already satisfied: six>=1.5 in /Users/mansighelani/Desktop/anaconda3/lib/python3.9/site-packages (from python-dateutil>=2.7.3->pandas) (1.16.0)\n",
      "Note: you may need to restart the kernel to use updated packages.\n"
     ]
    }
   ],
   "source": [
    "%pip install pandas"
   ]
  },
  {
   "cell_type": "code",
   "execution_count": 5,
   "id": "0a14b8e1",
   "metadata": {},
   "outputs": [
    {
     "data": {
      "text/html": [
       "<div>\n",
       "<style scoped>\n",
       "    .dataframe tbody tr th:only-of-type {\n",
       "        vertical-align: middle;\n",
       "    }\n",
       "\n",
       "    .dataframe tbody tr th {\n",
       "        vertical-align: top;\n",
       "    }\n",
       "\n",
       "    .dataframe thead th {\n",
       "        text-align: right;\n",
       "    }\n",
       "</style>\n",
       "<table border=\"1\" class=\"dataframe\">\n",
       "  <thead>\n",
       "    <tr style=\"text-align: right;\">\n",
       "      <th></th>\n",
       "      <th>index</th>\n",
       "      <th>Patient Id</th>\n",
       "      <th>Age</th>\n",
       "      <th>Gender</th>\n",
       "      <th>Air Pollution</th>\n",
       "      <th>Alcohol use</th>\n",
       "      <th>Dust Allergy</th>\n",
       "      <th>OccuPational Hazards</th>\n",
       "      <th>Genetic Risk</th>\n",
       "      <th>chronic Lung Disease</th>\n",
       "      <th>...</th>\n",
       "      <th>Fatigue</th>\n",
       "      <th>Weight Loss</th>\n",
       "      <th>Shortness of Breath</th>\n",
       "      <th>Wheezing</th>\n",
       "      <th>Swallowing Difficulty</th>\n",
       "      <th>Clubbing of Finger Nails</th>\n",
       "      <th>Frequent Cold</th>\n",
       "      <th>Dry Cough</th>\n",
       "      <th>Snoring</th>\n",
       "      <th>Level</th>\n",
       "    </tr>\n",
       "  </thead>\n",
       "  <tbody>\n",
       "    <tr>\n",
       "      <th>0</th>\n",
       "      <td>0</td>\n",
       "      <td>P1</td>\n",
       "      <td>33</td>\n",
       "      <td>1</td>\n",
       "      <td>2</td>\n",
       "      <td>4</td>\n",
       "      <td>5</td>\n",
       "      <td>4</td>\n",
       "      <td>3</td>\n",
       "      <td>2</td>\n",
       "      <td>...</td>\n",
       "      <td>3</td>\n",
       "      <td>4</td>\n",
       "      <td>2</td>\n",
       "      <td>2</td>\n",
       "      <td>3</td>\n",
       "      <td>1</td>\n",
       "      <td>2</td>\n",
       "      <td>3</td>\n",
       "      <td>4</td>\n",
       "      <td>Low</td>\n",
       "    </tr>\n",
       "    <tr>\n",
       "      <th>1</th>\n",
       "      <td>1</td>\n",
       "      <td>P10</td>\n",
       "      <td>17</td>\n",
       "      <td>1</td>\n",
       "      <td>3</td>\n",
       "      <td>1</td>\n",
       "      <td>5</td>\n",
       "      <td>3</td>\n",
       "      <td>4</td>\n",
       "      <td>2</td>\n",
       "      <td>...</td>\n",
       "      <td>1</td>\n",
       "      <td>3</td>\n",
       "      <td>7</td>\n",
       "      <td>8</td>\n",
       "      <td>6</td>\n",
       "      <td>2</td>\n",
       "      <td>1</td>\n",
       "      <td>7</td>\n",
       "      <td>2</td>\n",
       "      <td>Medium</td>\n",
       "    </tr>\n",
       "    <tr>\n",
       "      <th>2</th>\n",
       "      <td>2</td>\n",
       "      <td>P100</td>\n",
       "      <td>35</td>\n",
       "      <td>1</td>\n",
       "      <td>4</td>\n",
       "      <td>5</td>\n",
       "      <td>6</td>\n",
       "      <td>5</td>\n",
       "      <td>5</td>\n",
       "      <td>4</td>\n",
       "      <td>...</td>\n",
       "      <td>8</td>\n",
       "      <td>7</td>\n",
       "      <td>9</td>\n",
       "      <td>2</td>\n",
       "      <td>1</td>\n",
       "      <td>4</td>\n",
       "      <td>6</td>\n",
       "      <td>7</td>\n",
       "      <td>2</td>\n",
       "      <td>High</td>\n",
       "    </tr>\n",
       "    <tr>\n",
       "      <th>3</th>\n",
       "      <td>3</td>\n",
       "      <td>P1000</td>\n",
       "      <td>37</td>\n",
       "      <td>1</td>\n",
       "      <td>7</td>\n",
       "      <td>7</td>\n",
       "      <td>7</td>\n",
       "      <td>7</td>\n",
       "      <td>6</td>\n",
       "      <td>7</td>\n",
       "      <td>...</td>\n",
       "      <td>4</td>\n",
       "      <td>2</td>\n",
       "      <td>3</td>\n",
       "      <td>1</td>\n",
       "      <td>4</td>\n",
       "      <td>5</td>\n",
       "      <td>6</td>\n",
       "      <td>7</td>\n",
       "      <td>5</td>\n",
       "      <td>High</td>\n",
       "    </tr>\n",
       "    <tr>\n",
       "      <th>4</th>\n",
       "      <td>4</td>\n",
       "      <td>P101</td>\n",
       "      <td>46</td>\n",
       "      <td>1</td>\n",
       "      <td>6</td>\n",
       "      <td>8</td>\n",
       "      <td>7</td>\n",
       "      <td>7</td>\n",
       "      <td>7</td>\n",
       "      <td>6</td>\n",
       "      <td>...</td>\n",
       "      <td>3</td>\n",
       "      <td>2</td>\n",
       "      <td>4</td>\n",
       "      <td>1</td>\n",
       "      <td>4</td>\n",
       "      <td>2</td>\n",
       "      <td>4</td>\n",
       "      <td>2</td>\n",
       "      <td>3</td>\n",
       "      <td>High</td>\n",
       "    </tr>\n",
       "  </tbody>\n",
       "</table>\n",
       "<p>5 rows × 26 columns</p>\n",
       "</div>"
      ],
      "text/plain": [
       "   index Patient Id  Age  Gender  Air Pollution  Alcohol use  Dust Allergy  \\\n",
       "0      0         P1   33       1              2            4             5   \n",
       "1      1        P10   17       1              3            1             5   \n",
       "2      2       P100   35       1              4            5             6   \n",
       "3      3      P1000   37       1              7            7             7   \n",
       "4      4       P101   46       1              6            8             7   \n",
       "\n",
       "   OccuPational Hazards  Genetic Risk  chronic Lung Disease  ...  Fatigue  \\\n",
       "0                     4             3                     2  ...        3   \n",
       "1                     3             4                     2  ...        1   \n",
       "2                     5             5                     4  ...        8   \n",
       "3                     7             6                     7  ...        4   \n",
       "4                     7             7                     6  ...        3   \n",
       "\n",
       "   Weight Loss  Shortness of Breath  Wheezing  Swallowing Difficulty  \\\n",
       "0            4                    2         2                      3   \n",
       "1            3                    7         8                      6   \n",
       "2            7                    9         2                      1   \n",
       "3            2                    3         1                      4   \n",
       "4            2                    4         1                      4   \n",
       "\n",
       "   Clubbing of Finger Nails  Frequent Cold  Dry Cough  Snoring   Level  \n",
       "0                         1              2          3        4     Low  \n",
       "1                         2              1          7        2  Medium  \n",
       "2                         4              6          7        2    High  \n",
       "3                         5              6          7        5    High  \n",
       "4                         2              4          2        3    High  \n",
       "\n",
       "[5 rows x 26 columns]"
      ]
     },
     "execution_count": 5,
     "metadata": {},
     "output_type": "execute_result"
    }
   ],
   "source": [
    "import pandas as pd\n",
    "  \n",
    "# reading the CSV file\n",
    "file =('/Users/mansighelani/Downloads/cancer patient data sets.csv')\n",
    "df = pd.read_csv(file)\n",
    "  \n",
    "# displaying the contents of the file\n",
    "df.head()"
   ]
  },
  {
   "cell_type": "code",
   "execution_count": 6,
   "id": "604feb41",
   "metadata": {},
   "outputs": [
    {
     "data": {
      "text/html": [
       "<div>\n",
       "<style scoped>\n",
       "    .dataframe tbody tr th:only-of-type {\n",
       "        vertical-align: middle;\n",
       "    }\n",
       "\n",
       "    .dataframe tbody tr th {\n",
       "        vertical-align: top;\n",
       "    }\n",
       "\n",
       "    .dataframe thead th {\n",
       "        text-align: right;\n",
       "    }\n",
       "</style>\n",
       "<table border=\"1\" class=\"dataframe\">\n",
       "  <thead>\n",
       "    <tr style=\"text-align: right;\">\n",
       "      <th></th>\n",
       "      <th>Balanced Diet</th>\n",
       "      <th>Obesity</th>\n",
       "      <th>Smoking</th>\n",
       "      <th>Passive Smoker</th>\n",
       "      <th>Level</th>\n",
       "    </tr>\n",
       "  </thead>\n",
       "  <tbody>\n",
       "    <tr>\n",
       "      <th>0</th>\n",
       "      <td>2</td>\n",
       "      <td>4</td>\n",
       "      <td>3</td>\n",
       "      <td>2</td>\n",
       "      <td>Low</td>\n",
       "    </tr>\n",
       "    <tr>\n",
       "      <th>1</th>\n",
       "      <td>2</td>\n",
       "      <td>2</td>\n",
       "      <td>2</td>\n",
       "      <td>4</td>\n",
       "      <td>Medium</td>\n",
       "    </tr>\n",
       "    <tr>\n",
       "      <th>2</th>\n",
       "      <td>6</td>\n",
       "      <td>7</td>\n",
       "      <td>2</td>\n",
       "      <td>3</td>\n",
       "      <td>High</td>\n",
       "    </tr>\n",
       "    <tr>\n",
       "      <th>3</th>\n",
       "      <td>7</td>\n",
       "      <td>7</td>\n",
       "      <td>7</td>\n",
       "      <td>7</td>\n",
       "      <td>High</td>\n",
       "    </tr>\n",
       "    <tr>\n",
       "      <th>4</th>\n",
       "      <td>7</td>\n",
       "      <td>7</td>\n",
       "      <td>8</td>\n",
       "      <td>7</td>\n",
       "      <td>High</td>\n",
       "    </tr>\n",
       "    <tr>\n",
       "      <th>...</th>\n",
       "      <td>...</td>\n",
       "      <td>...</td>\n",
       "      <td>...</td>\n",
       "      <td>...</td>\n",
       "      <td>...</td>\n",
       "    </tr>\n",
       "    <tr>\n",
       "      <th>995</th>\n",
       "      <td>7</td>\n",
       "      <td>7</td>\n",
       "      <td>7</td>\n",
       "      <td>8</td>\n",
       "      <td>High</td>\n",
       "    </tr>\n",
       "    <tr>\n",
       "      <th>996</th>\n",
       "      <td>7</td>\n",
       "      <td>7</td>\n",
       "      <td>7</td>\n",
       "      <td>8</td>\n",
       "      <td>High</td>\n",
       "    </tr>\n",
       "    <tr>\n",
       "      <th>997</th>\n",
       "      <td>6</td>\n",
       "      <td>7</td>\n",
       "      <td>2</td>\n",
       "      <td>3</td>\n",
       "      <td>High</td>\n",
       "    </tr>\n",
       "    <tr>\n",
       "      <th>998</th>\n",
       "      <td>7</td>\n",
       "      <td>7</td>\n",
       "      <td>8</td>\n",
       "      <td>7</td>\n",
       "      <td>High</td>\n",
       "    </tr>\n",
       "    <tr>\n",
       "      <th>999</th>\n",
       "      <td>6</td>\n",
       "      <td>7</td>\n",
       "      <td>2</td>\n",
       "      <td>3</td>\n",
       "      <td>High</td>\n",
       "    </tr>\n",
       "  </tbody>\n",
       "</table>\n",
       "<p>1000 rows × 5 columns</p>\n",
       "</div>"
      ],
      "text/plain": [
       "     Balanced Diet  Obesity  Smoking  Passive Smoker   Level\n",
       "0                2        4        3               2     Low\n",
       "1                2        2        2               4  Medium\n",
       "2                6        7        2               3    High\n",
       "3                7        7        7               7    High\n",
       "4                7        7        8               7    High\n",
       "..             ...      ...      ...             ...     ...\n",
       "995              7        7        7               8    High\n",
       "996              7        7        7               8    High\n",
       "997              6        7        2               3    High\n",
       "998              7        7        8               7    High\n",
       "999              6        7        2               3    High\n",
       "\n",
       "[1000 rows x 5 columns]"
      ]
     },
     "execution_count": 6,
     "metadata": {},
     "output_type": "execute_result"
    }
   ],
   "source": [
    "df_manshi = df[['Balanced Diet', 'Obesity', 'Smoking', 'Passive Smoker', 'Level']]\n",
    "df_manshi"
   ]
  },
  {
   "cell_type": "code",
   "execution_count": 7,
   "id": "370bf072",
   "metadata": {},
   "outputs": [],
   "source": [
    "import pandas as pd\n",
    "import numpy as np\n",
    "import matplotlib.pyplot as plt\n",
    "import seaborn as sns"
   ]
  },
  {
   "cell_type": "code",
   "execution_count": 8,
   "id": "f382cbfa",
   "metadata": {},
   "outputs": [
    {
     "name": "stdout",
     "output_type": "stream",
     "text": [
      "   Balanced Diet  Obesity  Smoking  Passive Smoker   Level\n",
      "0              2        4        3               2     Low\n",
      "1              2        2        2               4  Medium\n",
      "2              6        7        2               3    High\n",
      "3              7        7        7               7    High\n",
      "4              7        7        8               7    High\n"
     ]
    }
   ],
   "source": [
    "#Check the first few rows of the data:\n",
    "print(df_manshi.head())"
   ]
  },
  {
   "cell_type": "code",
   "execution_count": 9,
   "id": "5c0b6668",
   "metadata": {},
   "outputs": [
    {
     "name": "stdout",
     "output_type": "stream",
     "text": [
      "       Balanced Diet      Obesity      Smoking  Passive Smoker\n",
      "count    1000.000000  1000.000000  1000.000000     1000.000000\n",
      "mean        4.491000     4.465000     3.948000        4.195000\n",
      "std         2.135528     2.124921     2.495902        2.311778\n",
      "min         1.000000     1.000000     1.000000        1.000000\n",
      "25%         2.000000     3.000000     2.000000        2.000000\n",
      "50%         4.000000     4.000000     3.000000        4.000000\n",
      "75%         7.000000     7.000000     7.000000        7.000000\n",
      "max         7.000000     7.000000     8.000000        8.000000\n"
     ]
    }
   ],
   "source": [
    "# Get the summary statistics of the data:\n",
    "print(df_manshi.describe())"
   ]
  },
  {
   "cell_type": "code",
   "execution_count": 10,
   "id": "16e57c40",
   "metadata": {},
   "outputs": [
    {
     "name": "stdout",
     "output_type": "stream",
     "text": [
      "Balanced Diet     0\n",
      "Obesity           0\n",
      "Smoking           0\n",
      "Passive Smoker    0\n",
      "Level             0\n",
      "dtype: int64\n"
     ]
    }
   ],
   "source": [
    "# Check for missing values:\n",
    "print(df_manshi.isnull().sum())"
   ]
  },
  {
   "cell_type": "code",
   "execution_count": 11,
   "id": "dd7cf061",
   "metadata": {},
   "outputs": [
    {
     "data": {
      "image/png": "[encoded data removed]",
      "text/plain": [
       "<Figure size 432x288 with 1 Axes>"
      ]
     },
     "metadata": {
      "needs_background": "light"
     },
     "output_type": "display_data"
    },
    {
     "data": {
      "image/png": "[encoded data removed]",
      "text/plain": [
       "<Figure size 432x288 with 1 Axes>"
      ]
     },
     "metadata": {
      "needs_background": "light"
     },
     "output_type": "display_data"
    },
    {
     "data": {
      "image/png": "[encoded data removed]",
      "text/plain": [
       "<Figure size 432x288 with 1 Axes>"
      ]
     },
     "metadata": {
      "needs_background": "light"
     },
     "output_type": "display_data"
    },
    {
     "data": {
      "image/png": "[encoded data removed]",
      "text/plain": [
       "<Figure size 432x288 with 1 Axes>"
      ]
     },
     "metadata": {
      "needs_background": "light"
     },
     "output_type": "display_data"
    }
   ],
   "source": [
    "# Check the data distribution for each predictor variable:\n",
    "\n",
    "sns.histplot(df_manshi['Balanced Diet'], kde=False)\n",
    "plt.show()\n",
    "\n",
    "sns.histplot(df_manshi['Obesity'], kde=False)\n",
    "plt.show()\n",
    "\n",
    "sns.histplot(df_manshi['Smoking'], kde=False)\n",
    "plt.show()\n",
    "\n",
    "sns.histplot(df_manshi['Passive Smoker'], kde=False)\n",
    "plt.show()"
   ]
  },
  {
   "cell_type": "code",
   "execution_count": 12,
   "id": "4f48f1bf",
   "metadata": {},
   "outputs": [
    {
     "name": "stderr",
     "output_type": "stream",
     "text": [
      "/Users/mansighelani/Desktop/anaconda3/lib/python3.9/site-packages/seaborn/_decorators.py:36: FutureWarning: Pass the following variable as a keyword arg: x. From version 0.12, the only valid positional argument will be `data`, and passing other arguments without an explicit keyword will result in an error or misinterpretation.\n",
      "  warnings.warn(\n"
     ]
    },
    {
     "data": {
      "image/png": "[encoded data removed]",
      "text/plain": [
       "<Figure size 432x288 with 1 Axes>"
      ]
     },
     "metadata": {
      "needs_background": "light"
     },
     "output_type": "display_data"
    }
   ],
   "source": [
    "# Check the distribution of the response variable (Lung Cancer Level):\n",
    "sns.countplot(df_manshi['Level'])\n",
    "plt.show()"
   ]
  },
  {
   "cell_type": "code",
   "execution_count": 13,
   "id": "2c09636a",
   "metadata": {},
   "outputs": [
    {
     "data": {
      "image/png": "[encoded data removed]",
      "text/plain": [
       "<Figure size 432x288 with 1 Axes>"
      ]
     },
     "metadata": {
      "needs_background": "light"
     },
     "output_type": "display_data"
    },
    {
     "data": {
      "image/png": "[encoded data removed]",
      "text/plain": [
       "<Figure size 432x288 with 1 Axes>"
      ]
     },
     "metadata": {
      "needs_background": "light"
     },
     "output_type": "display_data"
    },
    {
     "data": {
      "image/png": "[encoded data removed]",
      "text/plain": [
       "<Figure size 432x288 with 1 Axes>"
      ]
     },
     "metadata": {
      "needs_background": "light"
     },
     "output_type": "display_data"
    },
    {
     "data": {
      "image/png": "[encoded data removed]",
      "text/plain": [
       "<Figure size 432x288 with 1 Axes>"
      ]
     },
     "metadata": {
      "needs_background": "light"
     },
     "output_type": "display_data"
    }
   ],
   "source": [
    "# Plot the distribution of each predictor variable with respect to the response variable:\n",
    "sns.boxplot(x='Level', y='Balanced Diet', data=df_manshi)\n",
    "plt.show()\n",
    "\n",
    "sns.boxplot(x='Level', y='Smoking', data=df_manshi)\n",
    "plt.show()\n",
    "\n",
    "sns.boxplot(x='Level', y='Passive Smoker', data=df_manshi)\n",
    "plt.show()\n",
    "\n",
    "sns.boxplot(x='Level', y='Obesity', data=df_manshi)\n",
    "plt.show()"
   ]
  },
  {
   "cell_type": "code",
   "execution_count": 14,
   "id": "8a1d418b",
   "metadata": {},
   "outputs": [
    {
     "data": {
      "image/png": "[encoded data removed]",
      "text/plain": [
       "<Figure size 432x288 with 2 Axes>"
      ]
     },
     "metadata": {
      "needs_background": "light"
     },
     "output_type": "display_data"
    }
   ],
   "source": [
    "# Create a correlation matrix to check the relationship between the variables:\n",
    "\n",
    "corr = df_manshi.corr()\n",
    "sns.heatmap(corr, annot=True)\n",
    "plt.show()"
   ]
  },
  {
   "cell_type": "code",
   "execution_count": 15,
   "id": "24508697",
   "metadata": {},
   "outputs": [
    {
     "name": "stdout",
     "output_type": "stream",
     "text": [
      "Separation Scores:\n",
      "{'Balanced Diet': 7.216056678413354, 'Smoking': 5.782067269931364, 'Passive Smoker': 7.215350071443151, 'Obesity': 7.148825186695138}\n"
     ]
    }
   ],
   "source": [
    "#  Create a score for separation, outliers, symmetry, distribution shape, and distribution spread.\n",
    "\n",
    "\n",
    "# Spearation:\n",
    "def separation_score(df, predictor, response):\n",
    "    \"\"\"\n",
    "    Calculates a separation score for a predictor variable with respect to the response variable\n",
    "    \"\"\"\n",
    "    pivot_table = df.pivot_table(index=predictor, columns=response, aggfunc='size')\n",
    "    pivot_table = pivot_table.div(pivot_table.sum(axis=1), axis=0)\n",
    "    pivot_table = pivot_table.fillna(0)\n",
    "    score = pivot_table.diff(axis=1).abs().sum().sum()\n",
    "    return score\n",
    "\n",
    "separation_scores = {}\n",
    "for predictor in ['Balanced Diet', 'Smoking', 'Passive Smoker', 'Obesity']:\n",
    "    separation_scores[predictor] = separation_score(df_manshi, predictor, 'Level')\n",
    "\n",
    "print(\"Separation Scores:\")\n",
    "print(separation_scores)\n",
    "\n",
    "#  The separation score measures the extent to which the levels of the response \n",
    "#  variable are separated for each predictor variable. A higher score indicates \n",
    "#  a stronger separation between the levels of the response variable."
   ]
  },
  {
   "cell_type": "code",
   "execution_count": 16,
   "id": "156d5542",
   "metadata": {},
   "outputs": [
    {
     "name": "stdout",
     "output_type": "stream",
     "text": [
      "Outlier Scores:\n",
      "{'Balanced Diet': 0.0, 'Smoking': 0.0, 'Passive Smoker': 0.0, 'Obesity': 0.0}\n"
     ]
    }
   ],
   "source": [
    "#  Outliers:\n",
    "\n",
    "def outlier_score(df, predictor):\n",
    "    \"\"\"\n",
    "    Calculates an outlier score for a predictor variable\n",
    "    \"\"\"\n",
    "    q1, q3 = df[predictor].quantile([0.25, 0.75])\n",
    "    iqr = q3 - q1\n",
    "    lower_bound = q1 - 1.5 * iqr\n",
    "    upper_bound = q3 + 1.5 * iqr\n",
    "    outliers = df[(df[predictor] < lower_bound) | (df[predictor] > upper_bound)]\n",
    "    score = len(outliers) / len(df)\n",
    "    return score\n",
    "\n",
    "outlier_scores = {}\n",
    "for predictor in ['Balanced Diet', 'Smoking', 'Passive Smoker', 'Obesity']:\n",
    "    outlier_scores[predictor] = outlier_score(df_manshi, predictor)\n",
    "\n",
    "print(\"Outlier Scores:\")\n",
    "print(outlier_scores)\n",
    "\n",
    "#  The outlier score measures the proportion of observations that are outliers \n",
    "#  for each predictor variable. A higher score indicates a higher proportion of outliers, \n",
    "#  which may affect the results of the analysis."
   ]
  },
  {
   "cell_type": "code",
   "execution_count": 17,
   "id": "1af6d830",
   "metadata": {},
   "outputs": [
    {
     "name": "stdout",
     "output_type": "stream",
     "text": [
      "Symmetry Scores:\n",
      "{'Balanced Diet': 0.05782593334118474, 'Smoking': 0.13644214162348875, 'Passive Smoker': 0.0237949969493594, 'Obesity': 0.05493207324276431}\n"
     ]
    }
   ],
   "source": [
    "#  Symmetry:\n",
    "\n",
    "def symmetry_score(df, predictor):\n",
    "    \"\"\"\n",
    "    Calculates a symmetry score for a predictor variable\n",
    "    \"\"\"\n",
    "    mean = df[predictor].mean()\n",
    "    median = df[predictor].median()\n",
    "    score = abs(mean - median) / (mean + median)\n",
    "    return score\n",
    "\n",
    "symmetry_scores = {}\n",
    "for predictor in ['Balanced Diet', 'Smoking', 'Passive Smoker', 'Obesity']:\n",
    "    symmetry_scores[predictor] = symmetry_score(df_manshi, predictor)\n",
    "\n",
    "print(\"Symmetry Scores:\")\n",
    "print(symmetry_scores)\n",
    "\n",
    "#  The symmetry score measures the extent to which the mean and median are \n",
    "#  different for each predictor variable.  A lower score indicates a more \n",
    "#  symmetrical distribution, while a higher score indicates a more skewed \n",
    "#  distribution."
   ]
  },
  {
   "cell_type": "code",
   "execution_count": 18,
   "id": "14a2b1c2",
   "metadata": {},
   "outputs": [
    {
     "name": "stdout",
     "output_type": "stream",
     "text": [
      "Kurtosis Scores:\n",
      "{'Balanced Diet': -0.07890857238806541, 'Smoking': -0.03739404902789587, 'Passive Smoker': -0.046497882460417785, 'Obesity': -0.07242026047101194}\n"
     ]
    }
   ],
   "source": [
    "#  Kurtosis:\n",
    "\n",
    "def kurtosis_score(df, predictor):\n",
    "    \"\"\"\n",
    "    Calculates a kurtosis score for a predictor variable\n",
    "    \"\"\"\n",
    "    kurtosis = df[predictor].kurtosis()\n",
    "    score = kurtosis / df[predictor].std()**4\n",
    "    return score\n",
    "\n",
    "kurtosis_scores = {}\n",
    "for predictor in ['Balanced Diet', 'Smoking', 'Passive Smoker', 'Obesity']:\n",
    "    kurtosis_scores[predictor] = kurtosis_score(df_manshi, predictor)\n",
    "\n",
    "print(\"Kurtosis Scores:\")\n",
    "print(kurtosis_scores)\n",
    "\n",
    "#  The kurtosis score measures the extent to which the distribution of each predictor \n",
    "#  variable is peaked or flat relative to a normal distribution. A lower score \n",
    "#  indicates a more normal distribution, while a higher score indicates a more peaked or \n",
    "#  flat distribution."
   ]
  },
  {
   "cell_type": "code",
   "execution_count": 19,
   "id": "ee14cc2e",
   "metadata": {},
   "outputs": [
    {
     "name": "stderr",
     "output_type": "stream",
     "text": [
      "/var/folders/cb/8ct110k12klb046bzm_s1m800000gn/T/ipykernel_39877/3331837803.py:3: SettingWithCopyWarning: \n",
      "A value is trying to be set on a copy of a slice from a DataFrame.\n",
      "Try using .loc[row_indexer,col_indexer] = value instead\n",
      "\n",
      "See the caveats in the documentation: https://pandas.pydata.org/pandas-docs/stable/user_guide/indexing.html#returning-a-view-versus-a-copy\n",
      "  df_manshi['Level'] = df_manshi['Level'].map({'Low': 1, 'Medium': 2, 'High': 3})\n"
     ]
    }
   ],
   "source": [
    "# Run correlation analysis\n",
    "\n",
    "df_manshi['Level'] = df_manshi['Level'].map({'Low': 1, 'Medium': 2, 'High': 3})"
   ]
  },
  {
   "cell_type": "code",
   "execution_count": 20,
   "id": "7b980a10",
   "metadata": {},
   "outputs": [
    {
     "name": "stdout",
     "output_type": "stream",
     "text": [
      "Correlation Table:\n",
      "                Correlation Strength\n",
      "Balanced Diet               0.706273\n",
      "Obesity                     0.827435\n",
      "Smoking                     0.519530\n",
      "Passive Smoker              0.703594\n"
     ]
    }
   ],
   "source": [
    "# Calculate the correlation matrix\n",
    "corr = df_manshi[['Balanced Diet', 'Obesity', 'Smoking', 'Passive Smoker', 'Level']].corr()\n",
    "\n",
    "# Create a table of the correlation strengths\n",
    "corr_table = corr[['Level']].loc[['Balanced Diet','Obesity','Smoking','Passive Smoker']]\n",
    "corr_table = corr_table.rename(columns={'Level': 'Correlation Strength'})\n",
    "\n",
    "print(\"Correlation Table:\")\n",
    "print(corr_table)"
   ]
  },
  {
   "cell_type": "code",
   "execution_count": 21,
   "id": "2bc1b496",
   "metadata": {},
   "outputs": [
    {
     "name": "stdout",
     "output_type": "stream",
     "text": [
      "Outliers detected:\n",
      "                Num Outliers\n",
      "Balanced Diet              0\n",
      "Obesity                    0\n",
      "Smoking                    0\n",
      "Passive Smoker             0\n",
      "Level                      0\n"
     ]
    }
   ],
   "source": [
    "# Detect outiers in the data\n",
    "\n",
    "def detect_outliers(df):\n",
    "    Q1 = df.quantile(0.25)\n",
    "    Q3 = df.quantile(0.75)\n",
    "    IQR = Q3 - Q1\n",
    "    outliers = ((df < (Q1 - 1.5 * IQR)) | (df > (Q3 + 1.5 * IQR)))\n",
    "    return outliers\n",
    "\n",
    "outliers_detected = detect_outliers(df_manshi)\n",
    "\n",
    "outliers_df = pd.DataFrame(outliers_detected.sum(), columns=['Num Outliers'])\n",
    "outliers_df.sort_values(by='Num Outliers', ascending=False, inplace=True)\n",
    "\n",
    "print(\"Outliers detected:\")\n",
    "print(outliers_df)"
   ]
  },
  {
   "cell_type": "code",
   "execution_count": null,
   "id": "6409301e",
   "metadata": {},
   "outputs": [],
   "source": []
  }
 ],
 "metadata": {
  "kernelspec": {
   "display_name": "Python 3 (ipykernel)",
   "language": "python",
   "name": "python3"
  },
  "language_info": {
   "codemirror_mode": {
    "name": "ipython",
    "version": 3
   },
   "file_extension": ".py",
   "mimetype": "text/x-python",
   "name": "python",
   "nbconvert_exporter": "python",
   "pygments_lexer": "ipython3",
   "version": "3.9.7"
  }
 },
 "nbformat": 4,
 "nbformat_minor": 5
}
